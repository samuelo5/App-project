{
 "cells": [
  {
   "cell_type": "code",
   "execution_count": null,
   "id": "3e710e13-a78a-4044-aaf2-e8181e929ba2",
   "metadata": {},
   "outputs": [],
   "source": [
    "from tkinter import *\n",
    "\n",
    "def evaluate(expression):\n",
    "    try:\n",
    "        result = eval(expression)\n",
    "        entry.delete(0, END)\n",
    "        entry.insert(0, str(result))\n",
    "    except Exception as e:\n",
    "        entry.delete(0, END)\n",
    "        entry.insert(0, \"Error\")\n",
    "\n",
    "def on_button_click(value):\n",
    "    current_text = entry.get()\n",
    "    entry.delete(0, END)\n",
    "    entry.insert(0, current_text + str(value))\n",
    "\n",
    "# Create main window\n",
    "root = Tk()\n",
    "root.title(\"Simple Calculator\")\n",
    "\n",
    "# Entry widget for displaying calculations\n",
    "entry = Entry(root, width=16, font=('Arial', 24), borderwidth=2)\n",
    "entry.grid(row=0, column=0, columnspan=4)\n",
    "\n",
    "# Button layout\n",
    "buttons = [\n",
    "    ('7', 1, 0), ('8', 1, 1), ('9', 1, 2), ('/', 1, 3),\n",
    "    ('4', 2, 0), ('5', 2, 1), ('6', 2, 2), ('*', 2, 3),\n",
    "    ('1', 3, 0), ('2', 3, 1), ('3', 3, 2), ('-', 3, 3),\n",
    "    ('0', 4, 0), ('.', 4, 1), ('=', 4, 2), ('+', 4, 3),\n",
    "]\n",
    "\n",
    "for (text, row, col) in buttons:\n",
    "    if text == '=':\n",
    "        btn = Button(root, text=text, command=lambda: evaluate(entry.get()))\n",
    "    else:\n",
    "        btn = Button(root, text=text, command=lambda t=text: on_button_click(t))\n",
    "    btn.grid(row=row, column=col, sticky=\"nsew\")\n",
    "\n",
    "# Make grid cells expand\n",
    "for i in range(5):\n",
    "    root.grid_rowconfigure(i, weight=1)\n",
    "    root.grid_columnconfigure(i, weight=1)\n",
    "\n",
    "# Run the application\n",
    "root.mainloop()\n"
   ]
  }
 ],
 "metadata": {
  "kernelspec": {
   "display_name": "Python 3 (ipykernel)",
   "language": "python",
   "name": "python3"
  },
  "language_info": {
   "codemirror_mode": {
    "name": "ipython",
    "version": 3
   },
   "file_extension": ".py",
   "mimetype": "text/x-python",
   "name": "python",
   "nbconvert_exporter": "python",
   "pygments_lexer": "ipython3",
   "version": "3.11.7"
  }
 },
 "nbformat": 4,
 "nbformat_minor": 5
}
